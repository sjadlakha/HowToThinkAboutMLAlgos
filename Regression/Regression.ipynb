{
 "metadata": {
  "language_info": {
   "codemirror_mode": {
    "name": "ipython",
    "version": 3
   },
   "file_extension": ".py",
   "mimetype": "text/x-python",
   "name": "python",
   "nbconvert_exporter": "python",
   "pygments_lexer": "ipython3",
   "version": 3
  },
  "orig_nbformat": 2
 },
 "nbformat": 4,
 "nbformat_minor": 2,
 "cells": [
  {
   "source": [
    "## Stochastic Gradient Descent for Linear Regression\n",
    "\n",
    "b0 +b1x1 + b2x2 + b3x3+ .....  = y\n",
    "\n",
    "Goal \n",
    "\n",
    "     -> Finding b's\n",
    "\n",
    "\n",
    "     -> Minimize the residual errors"
   ],
   "cell_type": "markdown",
   "metadata": {}
  },
  {
   "cell_type": "code",
   "execution_count": null,
   "metadata": {},
   "outputs": [],
   "source": [
    "# SGDRegressor, LinearRegression"
   ]
  }
 ]
}