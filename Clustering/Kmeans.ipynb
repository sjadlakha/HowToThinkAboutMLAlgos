{
 "metadata": {
  "language_info": {
   "codemirror_mode": {
    "name": "ipython",
    "version": 3
   },
   "file_extension": ".py",
   "mimetype": "text/x-python",
   "name": "python",
   "nbconvert_exporter": "python",
   "pygments_lexer": "ipython3",
   "version": "3.9.4"
  },
  "orig_nbformat": 2,
  "kernelspec": {
   "name": "python394jvsc74a57bd07812ea015bdcee6f23a998adcdd2ef97c151c0c241b7b7070987d9313e41299d",
   "display_name": "Python 3.9.4 64-bit ('3.9')"
  }
 },
 "nbformat": 4,
 "nbformat_minor": 2,
 "cells": [
  {
   "cell_type": "code",
   "execution_count": 1,
   "metadata": {},
   "outputs": [],
   "source": [
    "import csv"
   ]
  },
  {
   "cell_type": "code",
   "execution_count": 2,
   "metadata": {},
   "outputs": [],
   "source": [
    "with open(\"imdb_labelled.txt\",\"r\") as text_file:\n",
    "    lines = text_file.read().split('\\n')\n",
    "\n",
    "lines = [line.split(\"\\t\") for line in lines if len(line.split(\"\\t\"))==2 and line.split(\"\\t\")[1]!='']"
   ]
  },
  {
   "cell_type": "code",
   "execution_count": 7,
   "metadata": {},
   "outputs": [],
   "source": [
    "train_docs = [line[0] for line in lines]"
   ]
  },
  {
   "cell_type": "code",
   "execution_count": 6,
   "metadata": {},
   "outputs": [],
   "source": [
    "# Converting the Documents into TF-IDF vectors\n",
    "from sklearn.feature_extraction.text import TfidfVectorizer"
   ]
  },
  {
   "cell_type": "code",
   "execution_count": 8,
   "metadata": {},
   "outputs": [],
   "source": [
    "tfidf_vectorizer = TfidfVectorizer(max_df =0.5, min_df =2, stop_words='english')\n",
    "train_docs = tfidf_vectorizer.fit_transform(train_docs)"
   ]
  },
  {
   "cell_type": "code",
   "execution_count": 11,
   "metadata": {},
   "outputs": [
    {
     "output_type": "execute_result",
     "data": {
      "text/plain": [
       "<2x977 sparse matrix of type '<class 'numpy.float64'>'\n",
       "\twith 12 stored elements in Compressed Sparse Row format>"
      ]
     },
     "metadata": {},
     "execution_count": 11
    }
   ],
   "source": [
    "train_docs[:2]"
   ]
  },
  {
   "cell_type": "code",
   "execution_count": 12,
   "metadata": {},
   "outputs": [],
   "source": [
    "from sklearn.cluster import KMeans"
   ]
  },
  {
   "cell_type": "code",
   "execution_count": 13,
   "metadata": {},
   "outputs": [
    {
     "output_type": "stream",
     "name": "stdout",
     "text": [
      "Initialization complete\nIteration 0, inertia 1929.9227279808554\nIteration 1, inertia 972.1768593134251\nIteration 2, inertia 968.2035352549368\nIteration 3, inertia 966.8114283473226\nIteration 4, inertia 965.723354626594\nIteration 5, inertia 964.4141960322544\nIteration 6, inertia 963.009378528214\nIteration 7, inertia 962.1553275390087\nIteration 8, inertia 961.9935993959033\nIteration 9, inertia 961.9774391344969\nConverged at iteration 9: strict convergence.\n"
     ]
    },
    {
     "output_type": "execute_result",
     "data": {
      "text/plain": [
       "KMeans(max_iter=100, n_clusters=3, n_init=1, verbose=True)"
      ]
     },
     "metadata": {},
     "execution_count": 13
    }
   ],
   "source": [
    "km = KMeans(n_clusters=3, init='k-means++', max_iter=100, n_init=1, verbose=True)\n",
    "km.fit(train_docs)"
   ]
  },
  {
   "cell_type": "code",
   "execution_count": 15,
   "metadata": {
    "tags": []
   },
   "outputs": [
    {
     "output_type": "stream",
     "name": "stdout",
     "text": [
      "['Not sure who was more lost - the flat characters or the audience, nearly half of whom walked out.  ', '0']\n['Very little music or anything to speak of.  ', '0']\n['Wasted two hours.  ', '0']\n['A bit predictable.  ', '0']\n"
     ]
    }
   ],
   "source": [
    "count= 0\n",
    "for i in range(len(lines)):\n",
    "    if count>3:\n",
    "        break\n",
    "    if km.labels_[i] ==0:\n",
    "        print(lines[i])\n",
    "        count+=1"
   ]
  },
  {
   "cell_type": "code",
   "execution_count": 16,
   "metadata": {},
   "outputs": [
    {
     "output_type": "stream",
     "name": "stdout",
     "text": [
      "['Attempting artiness with black & white and clever camera angles, the movie disappointed - became even more ridiculous - as the acting was poor and the plot and lines almost non-existent.  ', '0']\n['Saw the movie today and thought it was a good effort, good messages for kids.  ', '1']\n['It had some average acting from the main person, and it was a low budget as you clearly can see.  ', '0']\n[\"I'll put this gem up against any movie in terms of screenplay, cinematography, acting, post-production, editing, directing, or any other aspect of film-making.  \", '1']\n"
     ]
    }
   ],
   "source": [
    "count= 0\n",
    "for i in range(len(lines)):\n",
    "    if count>3:\n",
    "        break\n",
    "    if km.labels_[i] ==1:\n",
    "        print(lines[i])\n",
    "        count+=1"
   ]
  },
  {
   "cell_type": "code",
   "execution_count": 17,
   "metadata": {},
   "outputs": [
    {
     "output_type": "stream",
     "name": "stdout",
     "text": [
      "['A very, very, very slow-moving, aimless movie about a distressed, drifting young man.  ', '0']\n['The best scene in the movie was when Gerardo is trying to find a song that keeps running through his head.  ', '1']\n[\"The rest of the movie lacks art, charm, meaning... If it's about emptiness, it works I guess because it's empty.  \", '0']\n[\"The movie showed a lot of Florida at it's best, made it look very appealing.  \", '1']\n"
     ]
    }
   ],
   "source": [
    "count= 0\n",
    "for i in range(len(lines)):\n",
    "    if count>3:\n",
    "        break\n",
    "    if km.labels_[i] ==2:\n",
    "        print(lines[i])\n",
    "        count+=1"
   ]
  },
  {
   "cell_type": "code",
   "execution_count": null,
   "metadata": {},
   "outputs": [],
   "source": []
  }
 ]
}